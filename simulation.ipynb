{
  "nbformat": 4,
  "nbformat_minor": 0,
  "metadata": {
    "colab": {
      "provenance": []
    },
    "kernelspec": {
      "name": "python3",
      "display_name": "Python 3"
    },
    "language_info": {
      "name": "python"
    }
  },
  "cells": [
    {
      "cell_type": "code",
      "execution_count": 1,
      "metadata": {
        "colab": {
          "base_uri": "https://localhost:8080/"
        },
        "id": "wP3yqbiy8Krj",
        "outputId": "083b37d9-bbab-42b6-d5db-68b7eac352c7"
      },
      "outputs": [
        {
          "output_type": "stream",
          "name": "stderr",
          "text": [
            "WARNING:absl:Compiled the loaded model, but the compiled metrics have yet to be built. `model.compile_metrics` will be empty until you train or evaluate the model.\n"
          ]
        },
        {
          "output_type": "stream",
          "name": "stdout",
          "text": [
            "\u001b[1m1/1\u001b[0m \u001b[32m━━━━━━━━━━━━━━━━━━━━\u001b[0m\u001b[37m\u001b[0m \u001b[1m0s\u001b[0m 248ms/step\n",
            "Predicted blood group: AB-\n"
          ]
        }
      ],
      "source": [
        "import numpy as np\n",
        "from tensorflow.keras.models import load_model\n",
        "from tensorflow.keras.preprocessing.image import load_img, img_to_array\n",
        "\n",
        "# 1. Load your model\n",
        "model = load_model('/content/model.h5')\n",
        "\n",
        "# 2. Load and preprocess a new image\n",
        "image_path = '/content/cluster_5_575.BMP'\n",
        "image = load_img(image_path, target_size=(64, 64)) # Resize to match model input\n",
        "image_array = img_to_array(image)\n",
        "image_array = np.expand_dims(image_array, axis=0)  # Add batch dimension\n",
        "\n",
        "# 3. Make predictions\n",
        "predictions = model.predict(image_array)\n",
        "\n",
        "# 4. Interpret results\n",
        "predicted_class = np.argmax(predictions, axis=1)[0]\n",
        "class_names = ['A+','A-', 'AB+', 'AB-', 'B+','B-','O+','O-']\n",
        "predicted_blood_group = class_names[predicted_class]\n",
        "print(f\"Predicted blood group: {predicted_blood_group}\")"
      ]
    },
    {
      "cell_type": "code",
      "source": [],
      "metadata": {
        "id": "Yp_YEyno8lx-"
      },
      "execution_count": null,
      "outputs": []
    }
  ]
}